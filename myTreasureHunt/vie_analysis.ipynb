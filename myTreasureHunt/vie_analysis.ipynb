{
 "cells": [
  {
   "cell_type": "code",
   "execution_count": null,
   "id": "10772773-5916-4b09-bab3-d7882217ede1",
   "metadata": {
    "collapsed": true,
    "jupyter": {
     "outputs_hidden": true
    },
    "tags": []
   },
   "outputs": [],
   "source": [
    "!pip install scipy\n",
    "!pip install pandas\n",
    "!pip install matplotlib\n",
    "!pip install seaborn\n",
    "!pip install pandoc"
   ]
  },
  {
   "cell_type": "code",
   "execution_count": null,
   "id": "3e0b71e7-d9f1-44d0-bdc4-5c8914cbae61",
   "metadata": {},
   "outputs": [],
   "source": [
    "import pandas as pd\n",
    "import matplotlib.pyplot as plt\n",
    "import re\n",
    "import seaborn as sns"
   ]
  },
  {
   "cell_type": "code",
   "execution_count": null,
   "id": "d3ecd078-933f-4793-90c3-f06f4387782e",
   "metadata": {},
   "outputs": [],
   "source": [
    "pd.set_option('display.max_rows', None)"
   ]
  },
  {
   "cell_type": "code",
   "execution_count": null,
   "id": "e0fd629d-d9d1-480d-a29d-c88e65b77c38",
   "metadata": {},
   "outputs": [],
   "source": [
    "CENTURY_PATTERN = re.compile(\"Century\", re.IGNORECASE)\n",
    "JM_PATTERN = re.compile(\"(JM)|(John[ _]+Marshall)\", re.IGNORECASE)\n",
    "MAYO_PATTERN = re.compile(\"Mayo\", re.IGNORECASE)\n",
    "\n",
    "TEAM_MAP = {\n",
    " \"CENTURY\" : \"CENTURY & JM\",\n",
    " \"JM\" : \"CENTURY & JM\",\n",
    " \"MAYO\" : \"MAYO\"\n",
    "}"
   ]
  },
  {
   "cell_type": "code",
   "execution_count": null,
   "id": "56255da7-1854-4a1a-bb51-49e94c6c22b8",
   "metadata": {},
   "outputs": [],
   "source": [
    "paths = [\n",
    "    \"/home/ntl/notebooks/vie_grade/Century_board_results.csv\",\n",
    "    \"/home/ntl/notebooks/vie_grade/JM_board_results.csv\",\n",
    "    \"/home/ntl/notebooks/vie_grade/Mayo_board_results.csv\"\n",
    "]\n",
    "\n",
    "dfs = [pd.read_csv(p) for p in paths]\n",
    "\n",
    "df = pd.concat(dfs)"
   ]
  },
  {
   "cell_type": "code",
   "execution_count": null,
   "id": "1d43fc28-d24d-4c98-8ef6-31c4ef53a87f",
   "metadata": {},
   "outputs": [],
   "source": [
    "def get_school_from_jar_path(jar_path: str) -> str:\n",
    "    if CENTURY_PATTERN.match(jar_path):\n",
    "        return \"CENTURY\"\n",
    "    elif JM_PATTERN.match(jar_path):\n",
    "        return \"JM\"\n",
    "    elif MAYO_PATTERN.match(jar_path):\n",
    "        return \"MAYO\"\n",
    "    else:\n",
    "        raise ValueError(f\"{jar_path} does not begin with a school\")\n",
    "    \n",
    "    \n"
   ]
  },
  {
   "cell_type": "code",
   "execution_count": null,
   "id": "48e7d74c-6b8c-42d8-924a-f228b7fa8984",
   "metadata": {},
   "outputs": [],
   "source": [
    "df[\"School\"] = df[\"Jar Path\"].apply(get_school_from_jar_path)\n",
    "df[\"Team\"] = df[\"School\"].apply(lambda path: TEAM_MAP.get(get_school_from_jar_path(path)))"
   ]
  },
  {
   "cell_type": "code",
   "execution_count": null,
   "id": "5fe5b095-eb33-41f9-99c0-a3f53afb8e7c",
   "metadata": {},
   "outputs": [],
   "source": [
    "#df = df.loc[~df[\"Board Name\"].isin(['Level_3_4.csv', 'Level_3_9.csv', 'Surprise_2.csv', 'Surprise_3.csv']), :]\n",
    "\n",
    "\n",
    "df[\"Team\"] = df[\"Team\"].astype(\"category\")\n",
    "df[\"School\"] = df[\"School\"].astype(\"category\")\n",
    "df[\"Board Name\"] = df[\"Board Name\"].astype(\"category\")"
   ]
  },
  {
   "cell_type": "code",
   "execution_count": null,
   "id": "a9e0c9c4-40d0-4e7f-8db4-fb62784300a7",
   "metadata": {},
   "outputs": [],
   "source": [
    "df[\"Player Rank on Board\"] = df.groupby(by=[\"Board Name\"])[\"Score\"].rank(\"dense\", ascending=False)"
   ]
  },
  {
   "cell_type": "code",
   "execution_count": null,
   "id": "426c9929-398f-4f90-97fa-904c8429d797",
   "metadata": {},
   "outputs": [],
   "source": [
    "at_rank = df.groupby(by=[\"Board Name\", \"Player Rank on Board\"], as_index=True).size()"
   ]
  },
  {
   "cell_type": "code",
   "execution_count": null,
   "id": "35a71a32-8aa0-4bad-990e-4993a50a15b3",
   "metadata": {},
   "outputs": [],
   "source": [
    "def calc_score(df_row, at_rank):\n",
    "    points = {}\n",
    "    points[1] = 3\n",
    "    points[2] = 2\n",
    "    points[3] = 1\n",
    "    \n",
    "    board_name = df_row[\"Board Name\"]\n",
    "    rank = df_row[\"Player Rank on Board\"]\n",
    "    \n",
    "    ties = {}\n",
    "    ties[1] = at_rank.get((board_name, 1), 0)\n",
    "    ties[2] = at_rank.get((board_name, 2), 0)\n",
    "    ties[3] = at_rank.get((board_name, 3), 0)\n",
    "    \n",
    "    if ties[1] > 1:\n",
    "        points[1] = points[1] + points[2]\n",
    "        points[2] = points[3]\n",
    "        points[3] = 0\n",
    "    if ties[1] > 2:\n",
    "        points[1] = points[1] + points[2]\n",
    "        points[2] = 0\n",
    "    if ties[2] > 1:\n",
    "        points[2] = points[2] + points[3]\n",
    "        points[3] = 0\n",
    "        \n",
    "    score = points.get(rank, 0)\n",
    "    if score > 0 and ties.get(rank, 0) > 0:\n",
    "        return score / ties.get(rank)\n",
    "    \n",
    "    return score\n",
    "            "
   ]
  },
  {
   "cell_type": "code",
   "execution_count": null,
   "id": "9ae10ccd-b4cb-4197-8c6e-aa7e0d03f713",
   "metadata": {},
   "outputs": [],
   "source": [
    "df[\"Points\"] = df.apply(calc_score, args=(at_rank,), axis='columns')"
   ]
  },
  {
   "cell_type": "markdown",
   "id": "6e4386d3-7b88-47bc-87bb-4839f1d90f69",
   "metadata": {},
   "source": [
    "# Board Winners"
   ]
  },
  {
   "cell_type": "code",
   "execution_count": null,
   "id": "2a90a3f0-4d3d-4b17-a3f3-ac28fe0b8ed0",
   "metadata": {
    "tags": []
   },
   "outputs": [],
   "source": [
    "board_winners = df.sort_values([\"Board Name\", \"Player Rank on Board\"], ascending=True).set_index([\"Board Name\", \"Player Rank on Board\"])\n",
    "board_winners.loc[board_winners[\"Points\"] > 0, [\"Student Name\", \"School\", \"Team\", \"Score\", \"Points\"]]"
   ]
  },
  {
   "cell_type": "markdown",
   "id": "378674c4-ff77-4bca-bd20-9bec7d3192d1",
   "metadata": {},
   "source": [
    "# Number of Players with same rank by Board"
   ]
  },
  {
   "cell_type": "code",
   "execution_count": null,
   "id": "d5ca9512-2a6f-4eb3-b92b-74320720ee7f",
   "metadata": {},
   "outputs": [],
   "source": [
    "df[\"Player Rank on Board\"] = df[\"Player Rank on Board\"].apply(lambda r: int(r))\n",
    "ties = df.loc[df[\"Player Rank on Board\"] <= 3].groupby(by=[\"Board Name\", \"Player Rank on Board\"]).size().to_frame(\"Players at rank\").unstack()\n",
    "ties.sort_values([(\"Players at rank\", 1)], ascending=False)"
   ]
  },
  {
   "cell_type": "code",
   "execution_count": null,
   "id": "0509e11f-6bdd-4c3c-9ed6-98170383706f",
   "metadata": {},
   "outputs": [],
   "source": [
    "ties[(\"Players at rank\", 1)].plot.bar(figsize=(20,5))"
   ]
  },
  {
   "cell_type": "markdown",
   "id": "e43e9308-1bad-4aff-94e5-b1d5af77153a",
   "metadata": {},
   "source": [
    "# Scores by Player"
   ]
  },
  {
   "cell_type": "code",
   "execution_count": null,
   "id": "70d24a0c-5220-4b9c-a10b-29ec1c936306",
   "metadata": {},
   "outputs": [],
   "source": [
    "df.sort_values([\"Student Name\", \"Board Name\"], ascending=True).set_index([\"Student Name\", \"Board Name\"])"
   ]
  },
  {
   "cell_type": "markdown",
   "id": "1eae5c5a-87ad-404c-a1f5-dfa722a5a8a0",
   "metadata": {},
   "source": [
    "# Top individual scores (All boards)"
   ]
  },
  {
   "cell_type": "code",
   "execution_count": null,
   "id": "52b304c0-aa35-4f9d-bbee-c3edcd012747",
   "metadata": {},
   "outputs": [],
   "source": [
    "top_idv_scores = pd.DataFrame(df.groupby(by=[\"Student Name\", \"School\"])[[\"Score\"]].sum()).sort_values([\"Score\"], ascending=False)\n",
    "top_idv_scores.head(15)"
   ]
  },
  {
   "cell_type": "code",
   "execution_count": null,
   "id": "e1cfbba5-c389-4822-84a6-74c4cb5ef230",
   "metadata": {},
   "outputs": [],
   "source": [
    "top_idv_scores.reset_index().groupby(by=\"School\")[\"Score\"].std()"
   ]
  },
  {
   "cell_type": "markdown",
   "id": "f956dd96-20e8-480f-babd-6e0a6aedd7b1",
   "metadata": {},
   "source": [
    "# Top Points"
   ]
  },
  {
   "cell_type": "code",
   "execution_count": null,
   "id": "4dfc7b1c-4214-459a-86ae-43a4069f8186",
   "metadata": {},
   "outputs": [],
   "source": [
    "tp = pd.DataFrame(df.groupby(by=[\"Student Name\", \"School\"])[[\"Points\"]].sum()).sort_values([\"Points\"], ascending=False)\n",
    "tp.loc[tp[\"Points\"] > 0, :]"
   ]
  },
  {
   "cell_type": "markdown",
   "id": "e1548eb4-5191-4bca-ac37-87d6f5a6f83e",
   "metadata": {},
   "source": [
    "# Submissions by school"
   ]
  },
  {
   "cell_type": "code",
   "execution_count": null,
   "id": "14bd1957-da17-4ec6-a5c6-3f15876c4e07",
   "metadata": {},
   "outputs": [],
   "source": [
    "df.groupby(by=[\"School\"])[\"Jar Path\"].unique().apply(lambda l: len(l))"
   ]
  },
  {
   "cell_type": "markdown",
   "id": "664f99e1-ed08-4f69-a0db-2cf9f7568b8b",
   "metadata": {},
   "source": [
    "# Team Scores"
   ]
  },
  {
   "cell_type": "code",
   "execution_count": null,
   "id": "d75acbae-fa55-4861-a10d-58bbab2781bf",
   "metadata": {},
   "outputs": [],
   "source": [
    "df.groupby(by=[\"Team\"])[\"Points\"].sum()"
   ]
  },
  {
   "cell_type": "code",
   "execution_count": null,
   "id": "23d4ae66-096a-4aed-b05a-b4598fb78589",
   "metadata": {},
   "outputs": [],
   "source": [
    "df.groupby(by=[\"Team\"])[\"Points\"].sum().plot.bar(title=\"Points by Team\")"
   ]
  },
  {
   "cell_type": "code",
   "execution_count": null,
   "id": "5fd54c0f-997d-4657-b7be-b7000625d89c",
   "metadata": {},
   "outputs": [],
   "source": [
    "df.groupby(by=[\"School\"])[\"Points\"].sum().plot.bar(title=\"Points by school\")"
   ]
  },
  {
   "cell_type": "markdown",
   "id": "53a6d312-9be0-406f-a1e6-584b302c2268",
   "metadata": {},
   "source": [
    "# Scores by board"
   ]
  },
  {
   "cell_type": "code",
   "execution_count": null,
   "id": "dd677ac1-0f1f-4c76-8823-d7b839056b15",
   "metadata": {},
   "outputs": [],
   "source": [
    "fig, ax = plt.subplots(figsize=(20,15))\n",
    "ax.tick_params(axis='x', labelrotation=90)\n",
    "sns.scatterplot(ax=ax, x=df[\"Board Name\"], y=df[\"Score\"], s=50)"
   ]
  },
  {
   "cell_type": "markdown",
   "id": "93fc335b-67aa-4438-87ae-5aee50643ad5",
   "metadata": {},
   "source": [
    "# Variation in Scores"
   ]
  },
  {
   "cell_type": "code",
   "execution_count": null,
   "id": "f6e6cfe5-d936-4821-b4b9-9cd364876e06",
   "metadata": {},
   "outputs": [],
   "source": [
    "fig, ax = plt.subplots(figsize=(20,10))\n",
    "ax.tick_params(axis='x', labelrotation=90)\n",
    "sns.boxplot(ax=ax, x=df[\"Board Name\"], y=df[\"Score\"], width=.5)"
   ]
  },
  {
   "cell_type": "markdown",
   "id": "57d31aa4-e6ca-43b9-9433-15220d29873d",
   "metadata": {},
   "source": [
    "# Errors"
   ]
  },
  {
   "cell_type": "code",
   "execution_count": null,
   "id": "23dc3311-b965-4c98-a142-d1336c9a33c2",
   "metadata": {},
   "outputs": [],
   "source": [
    "ax = df.groupby(by=[\"Failure\"])[\"Failure\"].count().plot.pie(title=\"Types of exceptions\")\n",
    "ax.set_ylabel('')"
   ]
  },
  {
   "cell_type": "markdown",
   "id": "32b26e6f-43d0-43eb-bb63-7c538d022711",
   "metadata": {},
   "source": [
    "# Errors by School"
   ]
  },
  {
   "cell_type": "code",
   "execution_count": null,
   "id": "18e89675-304d-40af-80a5-5429b5bc1851",
   "metadata": {},
   "outputs": [],
   "source": [
    "df.groupby(by=\"School\")[\"Failure\"].value_counts()"
   ]
  },
  {
   "cell_type": "markdown",
   "id": "54f35349-c085-4a8f-b47b-746e2de36474",
   "metadata": {},
   "source": [
    "# Errors by Student / Board"
   ]
  },
  {
   "cell_type": "code",
   "execution_count": null,
   "id": "71514cfa-b7a0-46b4-864a-5dbfa19d2be3",
   "metadata": {},
   "outputs": [],
   "source": [
    "errors = df.loc[pd.notnull(df[\"Failure\"])].sort_values([\"Student Name\", \"Board Name\"], ascending=True)\n",
    "errors.set_index([\"Student Name\", \"Board Name\"], inplace=True)\n",
    "errors.loc[:, [\"School\", \"Failure\", \"Jar Path\"]]"
   ]
  },
  {
   "cell_type": "markdown",
   "id": "c2ccea7d-5150-4f6f-a75a-2f74acde7285",
   "metadata": {},
   "source": [
    "# Cumulative score by board"
   ]
  },
  {
   "cell_type": "code",
   "execution_count": null,
   "id": "ac1228a0-06c6-4ab6-b0a8-e36d196a310b",
   "metadata": {},
   "outputs": [],
   "source": [
    "df2 = df.sort_values([\"Board Name\", \"Points\"])\n",
    "df2 = df2.groupby(by=[\"Team\", \"Board Name\"])[\"Points\"].sum().to_frame().reset_index().sort_values([\"Board Name\"]).reset_index(drop=True)\n",
    "df2['cs'] = df2.groupby(by=[\"Team\"])[\"Points\"].cumsum()\n",
    "df3 = df2.set_index([\"Board Name\"]).groupby([\"Team\"])[\"cs\"]\n",
    "df3.plot(rot=90, figsize=(5,5))\n"
   ]
  },
  {
   "cell_type": "markdown",
   "id": "a4dd7c8f-234c-472e-ba26-1ddfcb678650",
   "metadata": {},
   "source": [
    "# Points by board"
   ]
  },
  {
   "cell_type": "code",
   "execution_count": null,
   "id": "0a4516ae-ddbb-4e15-9507-359ba04fdd86",
   "metadata": {},
   "outputs": [],
   "source": [
    "df2 = df.groupby(by=['School', 'Board Name'])['Points'].sum().to_frame().reset_index()\n",
    "#display(df2)\n",
    "display(df2.pivot_table(df2, index='Board Name', columns=['School']))\n",
    "df2.pivot_table(df2, index='Board Name', columns=['School']).plot(kind='bar', ylim=(0,7), figsize=(10,10), stacked=True)"
   ]
  }
 ],
 "metadata": {
  "kernelspec": {
   "display_name": "Python 3 (ipykernel)",
   "language": "python",
   "name": "python3"
  },
  "language_info": {
   "codemirror_mode": {
    "name": "ipython",
    "version": 3
   },
   "file_extension": ".py",
   "mimetype": "text/x-python",
   "name": "python",
   "nbconvert_exporter": "python",
   "pygments_lexer": "ipython3",
   "version": "3.9.7"
  }
 },
 "nbformat": 4,
 "nbformat_minor": 5
}
